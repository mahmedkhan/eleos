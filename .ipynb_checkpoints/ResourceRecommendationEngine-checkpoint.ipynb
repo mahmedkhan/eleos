{
 "cells": [
  {
   "cell_type": "markdown",
   "metadata": {},
   "source": [
    "# Eleos - Resource Recommendation Engine"
   ]
  },
  {
   "cell_type": "markdown",
   "metadata": {},
   "source": [
    "## Introduction\n",
    "\n",
    "..."
   ]
  },
  {
   "cell_type": "code",
   "execution_count": 613,
   "metadata": {},
   "outputs": [
    {
     "data": {
      "text/html": [
       "<div>\n",
       "<style scoped>\n",
       "    .dataframe tbody tr th:only-of-type {\n",
       "        vertical-align: middle;\n",
       "    }\n",
       "\n",
       "    .dataframe tbody tr th {\n",
       "        vertical-align: top;\n",
       "    }\n",
       "\n",
       "    .dataframe thead th {\n",
       "        text-align: right;\n",
       "    }\n",
       "</style>\n",
       "<table border=\"1\" class=\"dataframe\">\n",
       "  <thead>\n",
       "    <tr style=\"text-align: right;\">\n",
       "      <th></th>\n",
       "      <th>r_id</th>\n",
       "      <th>name</th>\n",
       "      <th>url</th>\n",
       "      <th>tags</th>\n",
       "      <th>vote_average</th>\n",
       "      <th>vote_count</th>\n",
       "    </tr>\n",
       "  </thead>\n",
       "  <tbody>\n",
       "    <tr>\n",
       "      <th>0</th>\n",
       "      <td>1</td>\n",
       "      <td>Headspace</td>\n",
       "      <td>https://www.headspace.com/</td>\n",
       "      <td>[mindfulness, meditation, sleep, stress, anxie...</td>\n",
       "      <td>5</td>\n",
       "      <td>343</td>\n",
       "    </tr>\n",
       "    <tr>\n",
       "      <th>1</th>\n",
       "      <td>2</td>\n",
       "      <td>Samaritans Website</td>\n",
       "      <td>https://www.samaritans.org/</td>\n",
       "      <td>[information, suicide, suicidal, kill, harm, d...</td>\n",
       "      <td>4</td>\n",
       "      <td>1964</td>\n",
       "    </tr>\n",
       "    <tr>\n",
       "      <th>2</th>\n",
       "      <td>3</td>\n",
       "      <td>NHS Suicide Help</td>\n",
       "      <td>https://www.nhs.uk/conditions/suicide/</td>\n",
       "      <td>[information, suicide]</td>\n",
       "      <td>5</td>\n",
       "      <td>5787</td>\n",
       "    </tr>\n",
       "    <tr>\n",
       "      <th>3</th>\n",
       "      <td>4</td>\n",
       "      <td>NHS Self Harm Help</td>\n",
       "      <td>https://www.nhs.uk/conditions/self-harm/</td>\n",
       "      <td>[information, selfharm]</td>\n",
       "      <td>5</td>\n",
       "      <td>1575</td>\n",
       "    </tr>\n",
       "    <tr>\n",
       "      <th>4</th>\n",
       "      <td>5</td>\n",
       "      <td>Samaritans Support</td>\n",
       "      <td>https://www.samaritans.org/how-we-can-help/con...</td>\n",
       "      <td>[helpline, phoneline, chat, suicide, suicidal,...</td>\n",
       "      <td>4</td>\n",
       "      <td>5868</td>\n",
       "    </tr>\n",
       "  </tbody>\n",
       "</table>\n",
       "</div>"
      ],
      "text/plain": [
       "   r_id                  name  \\\n",
       "0     1             Headspace   \n",
       "1     2   Samaritans Website    \n",
       "2     3      NHS Suicide Help   \n",
       "3     4    NHS Self Harm Help   \n",
       "4     5  Samaritans Support     \n",
       "\n",
       "                                                 url  \\\n",
       "0                         https://www.headspace.com/   \n",
       "1                        https://www.samaritans.org/   \n",
       "2             https://www.nhs.uk/conditions/suicide/   \n",
       "3           https://www.nhs.uk/conditions/self-harm/   \n",
       "4  https://www.samaritans.org/how-we-can-help/con...   \n",
       "\n",
       "                                                tags  vote_average  vote_count  \n",
       "0  [mindfulness, meditation, sleep, stress, anxie...             5         343  \n",
       "1  [information, suicide, suicidal, kill, harm, d...             4        1964  \n",
       "2                             [information, suicide]             5        5787  \n",
       "3                            [information, selfharm]             5        1575  \n",
       "4  [helpline, phoneline, chat, suicide, suicidal,...             4        5868  "
      ]
     },
     "execution_count": 613,
     "metadata": {},
     "output_type": "execute_result"
    }
   ],
   "source": [
    "# Importing the pandas and numpy libraries, as well as particular modules from sklearn.\n",
    "import pandas as pd\n",
    "import numpy as np\n",
    "from sklearn.metrics.pairwise import cosine_similarity\n",
    "from sklearn.feature_extraction.text import CountVectorizer\n",
    "\n",
    "# Importing our resource database.\n",
    "df = pd.read_csv('resources.csv')\n",
    "df.head()"
   ]
  },
  {
   "cell_type": "markdown",
   "metadata": {},
   "source": [
    "## Resource Search\n",
    "\n",
    "In our resource database, we have inputted resources that fit under a specific category of other related resources. During the onboarding experience, users are yet to have informed us of their preferences of certain resources, meaning it is necessary to deliver to them a list of relevant resources that can fulfill a particular need. Here, we are creating a new dataframe that contains a list of resources that are only related to `grief`."
   ]
  },
  {
   "cell_type": "code",
   "execution_count": 614,
   "metadata": {},
   "outputs": [
    {
     "data": {
      "text/html": [
       "<div>\n",
       "<style scoped>\n",
       "    .dataframe tbody tr th:only-of-type {\n",
       "        vertical-align: middle;\n",
       "    }\n",
       "\n",
       "    .dataframe tbody tr th {\n",
       "        vertical-align: top;\n",
       "    }\n",
       "\n",
       "    .dataframe thead th {\n",
       "        text-align: right;\n",
       "    }\n",
       "</style>\n",
       "<table border=\"1\" class=\"dataframe\">\n",
       "  <thead>\n",
       "    <tr style=\"text-align: right;\">\n",
       "      <th></th>\n",
       "      <th>r_id</th>\n",
       "      <th>name</th>\n",
       "      <th>url</th>\n",
       "      <th>tags</th>\n",
       "      <th>vote_average</th>\n",
       "      <th>vote_count</th>\n",
       "    </tr>\n",
       "  </thead>\n",
       "  <tbody>\n",
       "    <tr>\n",
       "      <th>5</th>\n",
       "      <td>6</td>\n",
       "      <td>Young Minds: Grief and Loss</td>\n",
       "      <td>https://youngminds.org.uk/find-help/feelings-a...</td>\n",
       "      <td>[grief, loss, bereavement, grieve, death]</td>\n",
       "      <td>2</td>\n",
       "      <td>3031</td>\n",
       "    </tr>\n",
       "    <tr>\n",
       "      <th>6</th>\n",
       "      <td>7</td>\n",
       "      <td>NHS: Bereavement and Young People</td>\n",
       "      <td>https://www.nhs.uk/conditions/stress-anxiety-d...</td>\n",
       "      <td>[grief, loss, bereavement, grieve, death]</td>\n",
       "      <td>3</td>\n",
       "      <td>4093</td>\n",
       "    </tr>\n",
       "    <tr>\n",
       "      <th>7</th>\n",
       "      <td>8</td>\n",
       "      <td>Grief Encounter Phoneline</td>\n",
       "      <td>https://www.griefencounter.org.uk/</td>\n",
       "      <td>[helpline, grief, loss, bereavement, grieve, d...</td>\n",
       "      <td>3</td>\n",
       "      <td>5281</td>\n",
       "    </tr>\n",
       "    <tr>\n",
       "      <th>21</th>\n",
       "      <td>22</td>\n",
       "      <td>Grief: Support for Young People</td>\n",
       "      <td>https://apps.apple.com/gb/app/grief-support-fo...</td>\n",
       "      <td>[app, journaling, grief, loss, bereavement, gr...</td>\n",
       "      <td>2</td>\n",
       "      <td>1694</td>\n",
       "    </tr>\n",
       "  </tbody>\n",
       "</table>\n",
       "</div>"
      ],
      "text/plain": [
       "    r_id                               name  \\\n",
       "5      6        Young Minds: Grief and Loss   \n",
       "6      7  NHS: Bereavement and Young People   \n",
       "7      8         Grief Encounter Phoneline    \n",
       "21    22   Grief: Support for Young People    \n",
       "\n",
       "                                                  url  \\\n",
       "5   https://youngminds.org.uk/find-help/feelings-a...   \n",
       "6   https://www.nhs.uk/conditions/stress-anxiety-d...   \n",
       "7                  https://www.griefencounter.org.uk/   \n",
       "21  https://apps.apple.com/gb/app/grief-support-fo...   \n",
       "\n",
       "                                                 tags  vote_average  \\\n",
       "5           [grief, loss, bereavement, grieve, death]             2   \n",
       "6           [grief, loss, bereavement, grieve, death]             3   \n",
       "7   [helpline, grief, loss, bereavement, grieve, d...             3   \n",
       "21  [app, journaling, grief, loss, bereavement, gr...             2   \n",
       "\n",
       "    vote_count  \n",
       "5         3031  \n",
       "6         4093  \n",
       "7         5281  \n",
       "21        1694  "
      ]
     },
     "execution_count": 614,
     "metadata": {},
     "output_type": "execute_result"
    }
   ],
   "source": [
    "# Creating a new dataframe that contains resources with the keyword `grief`\n",
    "dfS = df[df['tags'].str.contains(\"grief\")]\n",
    "dfS"
   ]
  },
  {
   "cell_type": "markdown",
   "metadata": {},
   "source": [
    "## Resource Ranking\n",
    "\n",
    "It is important that, from our resource dataframe, we are able to recommend users the best resources based on the feedback of other users. There are two ways in which we use this system of ranking resources:\n",
    "\n",
    "1. Ranking a set of resources for a particular category, e.g. `grief`, based on user feedback in order to inform users during the onboarding experience of the best resources for a emotional wellbeing need. This is **not** personalised, and is simply a way of delivering users resources that have worked for other users.\n",
    "2. Ranking a set of resources for a particular category, e.g. `grief`, based on feedback from users similar to other users who have rated other resources similarly, in order to allow them to explore options for resources that they may like. This **is** personalised and is only possible after a user has registered and informed us of their ratings of other resources. \n",
    "\n",
    "The ranking system employed in this recommendation engine is based on the weighting formula designed by IMDB. It works as follows:\n",
    "\n",
    "1. An average is taken of the average rating for each resource in the resource dataframe.\n",
    "2. The 60th percentile of the number of votes of the resources is taken. This is our 'minimum' vote count.\n",
    "3. A new dataframe is created containing a list of resources from the main dataframe such that the vote count of each resource is equal to or greater than the 'minimum' vote count. These are now the resources that 'qualify' to be displayed to the user.\n",
    "4. Using the vote count and vote average for each qualifying resources, a score is calculated using the IMDB weighting formula and stored in a new column, `score`.\n",
    "5. The dataframe containing all qualifying resources is ordered by score in descending fashion.\n",
    "6. These resources are finally outputted."
   ]
  },
  {
   "cell_type": "code",
   "execution_count": 615,
   "metadata": {},
   "outputs": [
    {
     "data": {
      "text/plain": [
       "2.5"
      ]
     },
     "execution_count": 615,
     "metadata": {},
     "output_type": "execute_result"
    }
   ],
   "source": [
    "# Calculating the average vote average for each resource in the dataframe\n",
    "C = dfS['vote_average'].mean()\n",
    "C"
   ]
  },
  {
   "cell_type": "code",
   "execution_count": 616,
   "metadata": {},
   "outputs": [
    {
     "data": {
      "text/plain": [
       "2897.2999999999997"
      ]
     },
     "execution_count": 616,
     "metadata": {},
     "output_type": "execute_result"
    }
   ],
   "source": [
    "# Calculating the 30th percentile for the vote count of all resources in the dataframe\n",
    "m = dfS['vote_count'].quantile(0.3)\n",
    "m"
   ]
  },
  {
   "cell_type": "code",
   "execution_count": 617,
   "metadata": {},
   "outputs": [
    {
     "data": {
      "text/plain": [
       "(3, 6)"
      ]
     },
     "execution_count": 617,
     "metadata": {},
     "output_type": "execute_result"
    }
   ],
   "source": [
    "# Creating a new dataframe containing only resources that meet the vote count threshold\n",
    "dfQ = dfS.copy().loc[dfS['vote_count'] >= m]\n",
    "dfQ.shape"
   ]
  },
  {
   "cell_type": "code",
   "execution_count": 618,
   "metadata": {},
   "outputs": [],
   "source": [
    "# Weighting the vote count and average for each resource\n",
    "def weighted_rating(x, m=m, C=C):\n",
    "    v = x['vote_count']\n",
    "    R = x['vote_average']\n",
    "    # Calculation based on the IMDB formula\n",
    "    return (v/(v+m) * R) + (m/(m+v) * C)"
   ]
  },
  {
   "cell_type": "code",
   "execution_count": 619,
   "metadata": {},
   "outputs": [
    {
     "data": {
      "text/html": [
       "<div>\n",
       "<style scoped>\n",
       "    .dataframe tbody tr th:only-of-type {\n",
       "        vertical-align: middle;\n",
       "    }\n",
       "\n",
       "    .dataframe tbody tr th {\n",
       "        vertical-align: top;\n",
       "    }\n",
       "\n",
       "    .dataframe thead th {\n",
       "        text-align: right;\n",
       "    }\n",
       "</style>\n",
       "<table border=\"1\" class=\"dataframe\">\n",
       "  <thead>\n",
       "    <tr style=\"text-align: right;\">\n",
       "      <th></th>\n",
       "      <th>name</th>\n",
       "      <th>url</th>\n",
       "    </tr>\n",
       "  </thead>\n",
       "  <tbody>\n",
       "    <tr>\n",
       "      <th>7</th>\n",
       "      <td>Grief Encounter Phoneline</td>\n",
       "      <td>https://www.griefencounter.org.uk/</td>\n",
       "    </tr>\n",
       "    <tr>\n",
       "      <th>6</th>\n",
       "      <td>NHS: Bereavement and Young People</td>\n",
       "      <td>https://www.nhs.uk/conditions/stress-anxiety-d...</td>\n",
       "    </tr>\n",
       "    <tr>\n",
       "      <th>5</th>\n",
       "      <td>Young Minds: Grief and Loss</td>\n",
       "      <td>https://youngminds.org.uk/find-help/feelings-a...</td>\n",
       "    </tr>\n",
       "  </tbody>\n",
       "</table>\n",
       "</div>"
      ],
      "text/plain": [
       "                                name  \\\n",
       "7         Grief Encounter Phoneline    \n",
       "6  NHS: Bereavement and Young People   \n",
       "5        Young Minds: Grief and Loss   \n",
       "\n",
       "                                                 url  \n",
       "7                 https://www.griefencounter.org.uk/  \n",
       "6  https://www.nhs.uk/conditions/stress-anxiety-d...  \n",
       "5  https://youngminds.org.uk/find-help/feelings-a...  "
      ]
     },
     "execution_count": 619,
     "metadata": {},
     "output_type": "execute_result"
    }
   ],
   "source": [
    "# Defining a 'score' and calculating its value with `weighted_rating()`\n",
    "dfQ['score'] = dfQ.apply(weighted_rating, axis=1)\n",
    "\n",
    "# Sorting the qualifying recommendations based on their score\n",
    "dfQ = dfQ.sort_values('score', ascending=False)\n",
    "\n",
    "# Printing the top recommendations\n",
    "dfQ[['name', 'url']].head()"
   ]
  },
  {
   "cell_type": "markdown",
   "metadata": {},
   "source": [
    "## Content-Based Filtering\n",
    "\n",
    "Once a user has informed us of their preferences of resources by individually rating them, it is important for us to be able to recommend other resources within that specific category that meet similar emotional wellbeing needs. This is achieved by vectorising the tags assigned to each resource and using trigonometric ratios to determine how similar a given resource is to the other resources available in the dataframe. The output of this function is then stripped down to 3 recommendations but is not ordered in any way."
   ]
  },
  {
   "cell_type": "code",
   "execution_count": 620,
   "metadata": {},
   "outputs": [
    {
     "data": {
      "text/html": [
       "<div>\n",
       "<style scoped>\n",
       "    .dataframe tbody tr th:only-of-type {\n",
       "        vertical-align: middle;\n",
       "    }\n",
       "\n",
       "    .dataframe tbody tr th {\n",
       "        vertical-align: top;\n",
       "    }\n",
       "\n",
       "    .dataframe thead th {\n",
       "        text-align: right;\n",
       "    }\n",
       "</style>\n",
       "<table border=\"1\" class=\"dataframe\">\n",
       "  <thead>\n",
       "    <tr style=\"text-align: right;\">\n",
       "      <th></th>\n",
       "      <th>name</th>\n",
       "      <th>tags</th>\n",
       "      <th>url</th>\n",
       "    </tr>\n",
       "  </thead>\n",
       "  <tbody>\n",
       "    <tr>\n",
       "      <th>0</th>\n",
       "      <td>Headspace</td>\n",
       "      <td>[mindfulness, meditation, sleep, stress, anxie...</td>\n",
       "      <td>https://www.headspace.com/</td>\n",
       "    </tr>\n",
       "    <tr>\n",
       "      <th>1</th>\n",
       "      <td>Samaritans Website</td>\n",
       "      <td>[information, suicide, suicidal, kill, harm, d...</td>\n",
       "      <td>https://www.samaritans.org/</td>\n",
       "    </tr>\n",
       "    <tr>\n",
       "      <th>2</th>\n",
       "      <td>NHS Suicide Help</td>\n",
       "      <td>[information, suicide]</td>\n",
       "      <td>https://www.nhs.uk/conditions/suicide/</td>\n",
       "    </tr>\n",
       "    <tr>\n",
       "      <th>3</th>\n",
       "      <td>NHS Self Harm Help</td>\n",
       "      <td>[information, selfharm]</td>\n",
       "      <td>https://www.nhs.uk/conditions/self-harm/</td>\n",
       "    </tr>\n",
       "    <tr>\n",
       "      <th>4</th>\n",
       "      <td>Samaritans Support</td>\n",
       "      <td>[helpline, phoneline, chat, suicide, suicidal,...</td>\n",
       "      <td>https://www.samaritans.org/how-we-can-help/con...</td>\n",
       "    </tr>\n",
       "  </tbody>\n",
       "</table>\n",
       "</div>"
      ],
      "text/plain": [
       "                   name                                               tags  \\\n",
       "0             Headspace  [mindfulness, meditation, sleep, stress, anxie...   \n",
       "1   Samaritans Website   [information, suicide, suicidal, kill, harm, d...   \n",
       "2      NHS Suicide Help                             [information, suicide]   \n",
       "3    NHS Self Harm Help                            [information, selfharm]   \n",
       "4  Samaritans Support    [helpline, phoneline, chat, suicide, suicidal,...   \n",
       "\n",
       "                                                 url  \n",
       "0                         https://www.headspace.com/  \n",
       "1                        https://www.samaritans.org/  \n",
       "2             https://www.nhs.uk/conditions/suicide/  \n",
       "3           https://www.nhs.uk/conditions/self-harm/  \n",
       "4  https://www.samaritans.org/how-we-can-help/con...  "
      ]
     },
     "execution_count": 620,
     "metadata": {},
     "output_type": "execute_result"
    }
   ],
   "source": [
    "df[['name', 'tags', 'url']].head()"
   ]
  },
  {
   "cell_type": "code",
   "execution_count": 621,
   "metadata": {},
   "outputs": [],
   "source": [
    "count = CountVectorizer()\n",
    "count_matrix = count.fit_transform(df['tags'])\n",
    "cosine_sim = cosine_similarity(count_matrix, count_matrix)"
   ]
  },
  {
   "cell_type": "code",
   "execution_count": 622,
   "metadata": {},
   "outputs": [],
   "source": [
    "indices = pd.Series(df['name'])"
   ]
  },
  {
   "cell_type": "code",
   "execution_count": 623,
   "metadata": {},
   "outputs": [],
   "source": [
    "def recommend(name, cosine_sim = cosine_sim):\n",
    "    recommendations = []\n",
    "    idx = indices[indices == name].index[0]\n",
    "    score_series = pd.Series(cosine_sim[idx]).sort_values(ascending = False)\n",
    "    top = list(score_series.iloc[1:4].index)\n",
    "    \n",
    "    for i in top:\n",
    "        recommendations.append(list(df['name'])[i])\n",
    "        \n",
    "    dfR = df[df['name'].isin([recommendations[0], recommendations[1], recommendations[2]])]\n",
    "    dfR = dfR[['name', 'url']]\n",
    "    return dfR"
   ]
  },
  {
   "cell_type": "code",
   "execution_count": 624,
   "metadata": {},
   "outputs": [
    {
     "name": "stdout",
     "output_type": "stream",
     "text": [
      "Ask me to recommend you a resource: Wysa\n"
     ]
    },
    {
     "data": {
      "text/html": [
       "<div>\n",
       "<style scoped>\n",
       "    .dataframe tbody tr th:only-of-type {\n",
       "        vertical-align: middle;\n",
       "    }\n",
       "\n",
       "    .dataframe tbody tr th {\n",
       "        vertical-align: top;\n",
       "    }\n",
       "\n",
       "    .dataframe thead th {\n",
       "        text-align: right;\n",
       "    }\n",
       "</style>\n",
       "<table border=\"1\" class=\"dataframe\">\n",
       "  <thead>\n",
       "    <tr style=\"text-align: right;\">\n",
       "      <th></th>\n",
       "      <th>name</th>\n",
       "      <th>url</th>\n",
       "    </tr>\n",
       "  </thead>\n",
       "  <tbody>\n",
       "    <tr>\n",
       "      <th>0</th>\n",
       "      <td>Headspace</td>\n",
       "      <td>https://www.headspace.com/</td>\n",
       "    </tr>\n",
       "    <tr>\n",
       "      <th>18</th>\n",
       "      <td>Stoic</td>\n",
       "      <td>https://www.stoicroutine.com/</td>\n",
       "    </tr>\n",
       "    <tr>\n",
       "      <th>39</th>\n",
       "      <td>Flora</td>\n",
       "      <td>https://flora.appfinca.com/</td>\n",
       "    </tr>\n",
       "  </tbody>\n",
       "</table>\n",
       "</div>"
      ],
      "text/plain": [
       "         name                            url\n",
       "0   Headspace     https://www.headspace.com/\n",
       "18     Stoic   https://www.stoicroutine.com/\n",
       "39     Flora     https://flora.appfinca.com/"
      ]
     },
     "execution_count": 624,
     "metadata": {},
     "output_type": "execute_result"
    }
   ],
   "source": [
    "rec = input(\"Ask me to recommend you a resource: \")\n",
    "dfR = recommend(rec)\n",
    "dfR"
   ]
  },
  {
   "cell_type": "markdown",
   "metadata": {},
   "source": [
    "## Collaborative Filtering\n",
    "\n",
    "In order to further personalise the resources that are recommended to users, we will use a machine learning model that is able to predict how a user might rate a given resource by capturing the similarity between users and items, through a latent factor model. We are able to do this by provided the prediction algorithm with a dataframe of ratings made by users for the resources found in the main resources dataframe. By predicting the rating that a user might give to a set of resources, we are then able to rank this list by the product of the predicted rating and the already calculated weighted score, in order to generate a personalised list of resources based on the both the users interest in similar resources and the interests of similar users."
   ]
  },
  {
   "cell_type": "code",
   "execution_count": 625,
   "metadata": {},
   "outputs": [
    {
     "data": {
      "text/html": [
       "<div>\n",
       "<style scoped>\n",
       "    .dataframe tbody tr th:only-of-type {\n",
       "        vertical-align: middle;\n",
       "    }\n",
       "\n",
       "    .dataframe tbody tr th {\n",
       "        vertical-align: top;\n",
       "    }\n",
       "\n",
       "    .dataframe thead th {\n",
       "        text-align: right;\n",
       "    }\n",
       "</style>\n",
       "<table border=\"1\" class=\"dataframe\">\n",
       "  <thead>\n",
       "    <tr style=\"text-align: right;\">\n",
       "      <th></th>\n",
       "      <th>u_id</th>\n",
       "      <th>r_id</th>\n",
       "      <th>rating</th>\n",
       "    </tr>\n",
       "  </thead>\n",
       "  <tbody>\n",
       "    <tr>\n",
       "      <th>0</th>\n",
       "      <td>44</td>\n",
       "      <td>27</td>\n",
       "      <td>1</td>\n",
       "    </tr>\n",
       "    <tr>\n",
       "      <th>1</th>\n",
       "      <td>90</td>\n",
       "      <td>9</td>\n",
       "      <td>5</td>\n",
       "    </tr>\n",
       "    <tr>\n",
       "      <th>2</th>\n",
       "      <td>40</td>\n",
       "      <td>4</td>\n",
       "      <td>3</td>\n",
       "    </tr>\n",
       "    <tr>\n",
       "      <th>3</th>\n",
       "      <td>50</td>\n",
       "      <td>6</td>\n",
       "      <td>2</td>\n",
       "    </tr>\n",
       "    <tr>\n",
       "      <th>4</th>\n",
       "      <td>68</td>\n",
       "      <td>3</td>\n",
       "      <td>4</td>\n",
       "    </tr>\n",
       "  </tbody>\n",
       "</table>\n",
       "</div>"
      ],
      "text/plain": [
       "   u_id  r_id  rating\n",
       "0    44    27       1\n",
       "1    90     9       5\n",
       "2    40     4       3\n",
       "3    50     6       2\n",
       "4    68     3       4"
      ]
     },
     "execution_count": 625,
     "metadata": {},
     "output_type": "execute_result"
    }
   ],
   "source": [
    "from surprise import Reader\n",
    "from surprise import SVD\n",
    "from surprise import Dataset\n",
    "from surprise.model_selection import cross_validate\n",
    "reader = Reader()\n",
    "ratings = pd.read_csv('ratings.csv')\n",
    "ratings.head()"
   ]
  },
  {
   "cell_type": "code",
   "execution_count": 626,
   "metadata": {},
   "outputs": [
    {
     "name": "stdout",
     "output_type": "stream",
     "text": [
      "Evaluating RMSE, MAE of algorithm SVD on 5 split(s).\n",
      "\n",
      "                  Fold 1  Fold 2  Fold 3  Fold 4  Fold 5  Mean    Std     \n",
      "RMSE (testset)    1.4657  1.6393  1.3414  1.3810  1.4625  1.4580  0.1024  \n",
      "MAE (testset)     1.2607  1.4698  1.1560  1.2001  1.2781  1.2729  0.1076  \n",
      "Fit time          0.06    0.03    0.02    0.02    0.02    0.03    0.02    \n",
      "Test time         0.01    0.00    0.00    0.00    0.00    0.00    0.00    \n"
     ]
    },
    {
     "data": {
      "text/plain": [
       "{'test_rmse': array([1.46568765, 1.63926273, 1.34135454, 1.38103464, 1.46251326]),\n",
       " 'test_mae': array([1.2607092 , 1.46975444, 1.15595313, 1.20006824, 1.27806652]),\n",
       " 'fit_time': (0.05863308906555176,\n",
       "  0.033702850341796875,\n",
       "  0.021668672561645508,\n",
       "  0.01994800567626953,\n",
       "  0.018419981002807617),\n",
       " 'test_time': (0.007441043853759766,\n",
       "  0.0009410381317138672,\n",
       "  0.0007350444793701172,\n",
       "  0.0007178783416748047,\n",
       "  0.0005171298980712891)}"
      ]
     },
     "execution_count": 626,
     "metadata": {},
     "output_type": "execute_result"
    }
   ],
   "source": [
    "data = Dataset.load_from_df(ratings[['u_id', 'r_id', 'rating']], reader)\n",
    "algo = SVD()\n",
    "cross_validate(algo, data, measures=['RMSE', 'MAE'], cv=5, verbose=True)"
   ]
  },
  {
   "cell_type": "code",
   "execution_count": 627,
   "metadata": {},
   "outputs": [
    {
     "data": {
      "text/plain": [
       "<surprise.prediction_algorithms.matrix_factorization.SVD at 0x11eefcbb0>"
      ]
     },
     "execution_count": 627,
     "metadata": {},
     "output_type": "execute_result"
    }
   ],
   "source": [
    "trainset = data.build_full_trainset()\n",
    "algo.fit(trainset)"
   ]
  },
  {
   "cell_type": "code",
   "execution_count": 628,
   "metadata": {},
   "outputs": [
    {
     "name": "stdout",
     "output_type": "stream",
     "text": [
      "Ask me to predict the ratings for a user: 5\n"
     ]
    },
    {
     "data": {
      "text/html": [
       "<div>\n",
       "<style scoped>\n",
       "    .dataframe tbody tr th:only-of-type {\n",
       "        vertical-align: middle;\n",
       "    }\n",
       "\n",
       "    .dataframe tbody tr th {\n",
       "        vertical-align: top;\n",
       "    }\n",
       "\n",
       "    .dataframe thead th {\n",
       "        text-align: right;\n",
       "    }\n",
       "</style>\n",
       "<table border=\"1\" class=\"dataframe\">\n",
       "  <thead>\n",
       "    <tr style=\"text-align: right;\">\n",
       "      <th></th>\n",
       "      <th>name</th>\n",
       "      <th>prediction</th>\n",
       "    </tr>\n",
       "  </thead>\n",
       "  <tbody>\n",
       "    <tr>\n",
       "      <th>7</th>\n",
       "      <td>Grief Encounter Phoneline</td>\n",
       "      <td>8.379340</td>\n",
       "    </tr>\n",
       "    <tr>\n",
       "      <th>5</th>\n",
       "      <td>Young Minds: Grief and Loss</td>\n",
       "      <td>7.600437</td>\n",
       "    </tr>\n",
       "    <tr>\n",
       "      <th>6</th>\n",
       "      <td>NHS: Bereavement and Young People</td>\n",
       "      <td>7.504209</td>\n",
       "    </tr>\n",
       "    <tr>\n",
       "      <th>21</th>\n",
       "      <td>Grief: Support for Young People</td>\n",
       "      <td>6.003086</td>\n",
       "    </tr>\n",
       "  </tbody>\n",
       "</table>\n",
       "</div>"
      ],
      "text/plain": [
       "                                 name  prediction\n",
       "7          Grief Encounter Phoneline     8.379340\n",
       "5         Young Minds: Grief and Loss    7.600437\n",
       "6   NHS: Bereavement and Young People    7.504209\n",
       "21   Grief: Support for Young People     6.003086"
      ]
     },
     "execution_count": 628,
     "metadata": {},
     "output_type": "execute_result"
    }
   ],
   "source": [
    "u_id = int(input('Ask me to predict the ratings for a user: '))\n",
    "# ratings[ratings['u_id'] == u_id]\n",
    "\n",
    "predictions = []\n",
    "for i in range (0, len(df)):\n",
    "    prediction = algo.predict(u_id, i)\n",
    "    predictions.append(prediction.est)\n",
    "\n",
    "dfP = pd.DataFrame(predictions, columns = [\"prediction\"])\n",
    "dfP = pd.merge(df, dfP, left_index=True, right_index=True)\n",
    "dfP = dfP[dfP['tags'].str.contains(\"grief\")]\n",
    "\n",
    "\n",
    "# Calculating the average vote average for each resource in the dataframe\n",
    "C = dfP['vote_average'].mean()\n",
    "C\n",
    "\n",
    "# Calculating the 60th percentile for the vote count of all resources in the dataframe\n",
    "m = dfP['vote_count'].quantile(0.6)\n",
    "m\n",
    "\n",
    "# Defining a 'score' and calculating its value with `weighted_rating()`\n",
    "dfP['score'] = dfP.apply(weighted_rating, axis=1)\n",
    "\n",
    "#dfS = pd.merge(dfS, dfP, left_index=True, right_index=True)\n",
    "\n",
    "# Weighting the vote count and average for each qualifying resource\n",
    "def weighted_prediction(x):\n",
    "    score = x['score']\n",
    "    prediction = x['prediction']\n",
    "    return score * prediction\n",
    "\n",
    "# Defining a 'score' and calculating its value with `weighted_rating()`\n",
    "dfP['prediction'] = dfP.apply(weighted_prediction, axis=1)\n",
    "\n",
    "# Sorting the qualifying recommendations based on their score\n",
    "dfP = dfP.sort_values('prediction', ascending=False)\n",
    "\n",
    "# Printing the top recommendations\n",
    "dfP[['name', 'prediction']].head()"
   ]
  },
  {
   "cell_type": "code",
   "execution_count": 629,
   "metadata": {},
   "outputs": [
    {
     "name": "stdout",
     "output_type": "stream",
     "text": [
      "[{'text': 'School has been stressing me out.', 'external_id': None, 'error': False, 'extractions': [{'tag_name': 'KEYWORD', 'parsed_value': 'school', 'count': 1, 'relevance': '0.909', 'positions_in_text': [0]}]}]\n"
     ]
    }
   ],
   "source": [
    "from monkeylearn import MonkeyLearn\n",
    "\n",
    "ml = MonkeyLearn('da0088bcfbb0add6f5cccff301a6d98bfbac4d77')\n",
    "data = [\"School has been stressing me out.\"]\n",
    "model_id = 'ex_YCya9nrn'\n",
    "result = ml.extractors.extract(model_id, data)\n",
    "print(result.body)"
   ]
  },
  {
   "cell_type": "code",
   "execution_count": 630,
   "metadata": {},
   "outputs": [
    {
     "data": {
      "text/html": [
       "<div>\n",
       "<style scoped>\n",
       "    .dataframe tbody tr th:only-of-type {\n",
       "        vertical-align: middle;\n",
       "    }\n",
       "\n",
       "    .dataframe tbody tr th {\n",
       "        vertical-align: top;\n",
       "    }\n",
       "\n",
       "    .dataframe thead th {\n",
       "        text-align: right;\n",
       "    }\n",
       "</style>\n",
       "<table border=\"1\" class=\"dataframe\">\n",
       "  <thead>\n",
       "    <tr style=\"text-align: right;\">\n",
       "      <th></th>\n",
       "      <th>text</th>\n",
       "      <th>external_id</th>\n",
       "      <th>error</th>\n",
       "      <th>extractions</th>\n",
       "    </tr>\n",
       "  </thead>\n",
       "  <tbody>\n",
       "    <tr>\n",
       "      <th>0</th>\n",
       "      <td>School has been stressing me out.</td>\n",
       "      <td>None</td>\n",
       "      <td>False</td>\n",
       "      <td>[{'tag_name': 'KEYWORD', 'parsed_value': 'scho...</td>\n",
       "    </tr>\n",
       "  </tbody>\n",
       "</table>\n",
       "</div>"
      ],
      "text/plain": [
       "                                text external_id  error  \\\n",
       "0  School has been stressing me out.        None  False   \n",
       "\n",
       "                                         extractions  \n",
       "0  [{'tag_name': 'KEYWORD', 'parsed_value': 'scho...  "
      ]
     },
     "execution_count": 630,
     "metadata": {},
     "output_type": "execute_result"
    }
   ],
   "source": [
    "import pandas as pd\n",
    "from pandas.io.json import json_normalize\n",
    "dfB = pd.json_normalize(result.body)\n",
    "dfB"
   ]
  },
  {
   "cell_type": "code",
   "execution_count": 631,
   "metadata": {},
   "outputs": [],
   "source": [
    "dfB = pd.json_normalize(dfB.iloc[0]['extractions']).head()\n",
    "dfB.rename(columns={'parsed_value':'keywords'}, inplace=True)\n",
    "dfB = dfB[['keywords', 'relevance']]"
   ]
  },
  {
   "cell_type": "code",
   "execution_count": 632,
   "metadata": {},
   "outputs": [
    {
     "data": {
      "text/html": [
       "<div>\n",
       "<style scoped>\n",
       "    .dataframe tbody tr th:only-of-type {\n",
       "        vertical-align: middle;\n",
       "    }\n",
       "\n",
       "    .dataframe tbody tr th {\n",
       "        vertical-align: top;\n",
       "    }\n",
       "\n",
       "    .dataframe thead th {\n",
       "        text-align: right;\n",
       "    }\n",
       "</style>\n",
       "<table border=\"1\" class=\"dataframe\">\n",
       "  <thead>\n",
       "    <tr style=\"text-align: right;\">\n",
       "      <th></th>\n",
       "      <th>keywords</th>\n",
       "      <th>relevance</th>\n",
       "    </tr>\n",
       "  </thead>\n",
       "  <tbody>\n",
       "    <tr>\n",
       "      <th>0</th>\n",
       "      <td>school</td>\n",
       "      <td>0.909</td>\n",
       "    </tr>\n",
       "  </tbody>\n",
       "</table>\n",
       "</div>"
      ],
      "text/plain": [
       "  keywords relevance\n",
       "0   school     0.909"
      ]
     },
     "execution_count": 632,
     "metadata": {},
     "output_type": "execute_result"
    }
   ],
   "source": [
    "dfB.head(1)"
   ]
  },
  {
   "cell_type": "code",
   "execution_count": 633,
   "metadata": {},
   "outputs": [
    {
     "data": {
      "text/html": [
       "<div>\n",
       "<style scoped>\n",
       "    .dataframe tbody tr th:only-of-type {\n",
       "        vertical-align: middle;\n",
       "    }\n",
       "\n",
       "    .dataframe tbody tr th {\n",
       "        vertical-align: top;\n",
       "    }\n",
       "\n",
       "    .dataframe thead th {\n",
       "        text-align: right;\n",
       "    }\n",
       "</style>\n",
       "<table border=\"1\" class=\"dataframe\">\n",
       "  <thead>\n",
       "    <tr style=\"text-align: right;\">\n",
       "      <th></th>\n",
       "      <th>r_id</th>\n",
       "      <th>name</th>\n",
       "      <th>url</th>\n",
       "      <th>tags</th>\n",
       "      <th>vote_average</th>\n",
       "      <th>vote_count</th>\n",
       "    </tr>\n",
       "  </thead>\n",
       "  <tbody>\n",
       "    <tr>\n",
       "      <th>24</th>\n",
       "      <td>25</td>\n",
       "      <td>For Me</td>\n",
       "      <td>https://apps.apple.com/gb/app/for-me-app/id109...</td>\n",
       "      <td>[app, chat, forums, counselling, mood tracking...</td>\n",
       "      <td>4</td>\n",
       "      <td>5474</td>\n",
       "    </tr>\n",
       "    <tr>\n",
       "      <th>34</th>\n",
       "      <td>35</td>\n",
       "      <td>Student Health App</td>\n",
       "      <td>https://www.nhs.uk/apps-library/student-health...</td>\n",
       "      <td>[app, student, school, health]</td>\n",
       "      <td>3</td>\n",
       "      <td>1609</td>\n",
       "    </tr>\n",
       "    <tr>\n",
       "      <th>35</th>\n",
       "      <td>36</td>\n",
       "      <td>Headspace App</td>\n",
       "      <td>https://www.headspace.com/headspace-meditation...</td>\n",
       "      <td>[app, relax, meditation, midnfullness, student...</td>\n",
       "      <td>1</td>\n",
       "      <td>2122</td>\n",
       "    </tr>\n",
       "    <tr>\n",
       "      <th>37</th>\n",
       "      <td>38</td>\n",
       "      <td>Surviving Exams</td>\n",
       "      <td>https://www.nhs.uk/conditions/stress-anxiety-d...</td>\n",
       "      <td>[information, exams, school, students, stress]</td>\n",
       "      <td>4</td>\n",
       "      <td>4597</td>\n",
       "    </tr>\n",
       "    <tr>\n",
       "      <th>39</th>\n",
       "      <td>40</td>\n",
       "      <td>Flora</td>\n",
       "      <td>https://flora.appfinca.com/</td>\n",
       "      <td>[app, focus, productivity, stress, school, exa...</td>\n",
       "      <td>5</td>\n",
       "      <td>5097</td>\n",
       "    </tr>\n",
       "    <tr>\n",
       "      <th>40</th>\n",
       "      <td>41</td>\n",
       "      <td>My Life</td>\n",
       "      <td>https://my.life/</td>\n",
       "      <td>[app, students, school, study, calm, breathe, ...</td>\n",
       "      <td>4</td>\n",
       "      <td>5554</td>\n",
       "    </tr>\n",
       "    <tr>\n",
       "      <th>41</th>\n",
       "      <td>42</td>\n",
       "      <td>NHS: Student Stress</td>\n",
       "      <td>https://www.nhs.uk/conditions/stress-anxiety-d...</td>\n",
       "      <td>[information, school, stress, students]</td>\n",
       "      <td>2</td>\n",
       "      <td>867</td>\n",
       "    </tr>\n",
       "  </tbody>\n",
       "</table>\n",
       "</div>"
      ],
      "text/plain": [
       "    r_id                 name  \\\n",
       "24    25              For Me    \n",
       "34    35   Student Health App   \n",
       "35    36       Headspace App    \n",
       "37    38     Surviving Exams    \n",
       "39    40               Flora    \n",
       "40    41              My Life   \n",
       "41    42  NHS: Student Stress   \n",
       "\n",
       "                                                  url  \\\n",
       "24  https://apps.apple.com/gb/app/for-me-app/id109...   \n",
       "34  https://www.nhs.uk/apps-library/student-health...   \n",
       "35  https://www.headspace.com/headspace-meditation...   \n",
       "37  https://www.nhs.uk/conditions/stress-anxiety-d...   \n",
       "39                        https://flora.appfinca.com/   \n",
       "40                                   https://my.life/   \n",
       "41  https://www.nhs.uk/conditions/stress-anxiety-d...   \n",
       "\n",
       "                                                 tags  vote_average  \\\n",
       "24  [app, chat, forums, counselling, mood tracking...             4   \n",
       "34                     [app, student, school, health]             3   \n",
       "35  [app, relax, meditation, midnfullness, student...             1   \n",
       "37     [information, exams, school, students, stress]             4   \n",
       "39  [app, focus, productivity, stress, school, exa...             5   \n",
       "40  [app, students, school, study, calm, breathe, ...             4   \n",
       "41            [information, school, stress, students]             2   \n",
       "\n",
       "    vote_count  \n",
       "24        5474  \n",
       "34        1609  \n",
       "35        2122  \n",
       "37        4597  \n",
       "39        5097  \n",
       "40        5554  \n",
       "41         867  "
      ]
     },
     "execution_count": 633,
     "metadata": {},
     "output_type": "execute_result"
    }
   ],
   "source": [
    "#Python3 code to remove whitespace \n",
    "def strip(keyword): \n",
    "    return keyword.replace(\" \", \"\") \n",
    "\n",
    "keyword = strip(dfB.iloc[0]['keywords']).lower()\n",
    "dfL = df[df['tags'].str.contains(keyword)]\n",
    "dfL"
   ]
  }
 ],
 "metadata": {
  "kernelspec": {
   "display_name": "Python 3",
   "language": "python",
   "name": "python3"
  },
  "language_info": {
   "codemirror_mode": {
    "name": "ipython",
    "version": 3
   },
   "file_extension": ".py",
   "mimetype": "text/x-python",
   "name": "python",
   "nbconvert_exporter": "python",
   "pygments_lexer": "ipython3",
   "version": "3.8.3"
  }
 },
 "nbformat": 4,
 "nbformat_minor": 4
}
