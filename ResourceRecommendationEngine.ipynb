{
 "cells": [
  {
   "cell_type": "code",
   "execution_count": 54,
   "metadata": {},
   "outputs": [],
   "source": [
    "import pandas as pd\n",
    "import numpy as np\n",
    "from sklearn.metrics.pairwise import cosine_similarity\n",
    "from sklearn.feature_extraction.text import CountVectorizer \n",
    "df = pd.read_csv('resources.csv')"
   ]
  },
  {
   "cell_type": "code",
   "execution_count": 58,
   "metadata": {},
   "outputs": [
    {
     "data": {
      "text/html": [
       "<div>\n",
       "<style scoped>\n",
       "    .dataframe tbody tr th:only-of-type {\n",
       "        vertical-align: middle;\n",
       "    }\n",
       "\n",
       "    .dataframe tbody tr th {\n",
       "        vertical-align: top;\n",
       "    }\n",
       "\n",
       "    .dataframe thead th {\n",
       "        text-align: right;\n",
       "    }\n",
       "</style>\n",
       "<table border=\"1\" class=\"dataframe\">\n",
       "  <thead>\n",
       "    <tr style=\"text-align: right;\">\n",
       "      <th></th>\n",
       "      <th>r_id</th>\n",
       "      <th>name</th>\n",
       "      <th>url</th>\n",
       "      <th>tags</th>\n",
       "      <th>vote_average</th>\n",
       "      <th>vote_count</th>\n",
       "    </tr>\n",
       "  </thead>\n",
       "  <tbody>\n",
       "    <tr>\n",
       "      <th>0</th>\n",
       "      <td>1</td>\n",
       "      <td>Headspace</td>\n",
       "      <td>https://www.headspace.com/</td>\n",
       "      <td>[mindfulness, meditation, sleep, stress, anxie...</td>\n",
       "      <td>4</td>\n",
       "      <td>3045</td>\n",
       "    </tr>\n",
       "    <tr>\n",
       "      <th>1</th>\n",
       "      <td>2</td>\n",
       "      <td>Samaritans Website</td>\n",
       "      <td>https://www.samaritans.org/</td>\n",
       "      <td>[information, suicide, suicidal, kill, harm, die]</td>\n",
       "      <td>5</td>\n",
       "      <td>4357</td>\n",
       "    </tr>\n",
       "    <tr>\n",
       "      <th>2</th>\n",
       "      <td>3</td>\n",
       "      <td>NHS Suicide Help</td>\n",
       "      <td>https://www.nhs.uk/conditions/suicide/</td>\n",
       "      <td>[information, suicide, suicidal, death, harm]</td>\n",
       "      <td>5</td>\n",
       "      <td>123</td>\n",
       "    </tr>\n",
       "    <tr>\n",
       "      <th>3</th>\n",
       "      <td>4</td>\n",
       "      <td>NHS Self Harm Help</td>\n",
       "      <td>https://www.nhs.uk/conditions/self-harm/</td>\n",
       "      <td>[self-harm, hurt, selfloathing, past-trauma</td>\n",
       "      <td>4</td>\n",
       "      <td>53</td>\n",
       "    </tr>\n",
       "    <tr>\n",
       "      <th>4</th>\n",
       "      <td>5</td>\n",
       "      <td>Samaritans Support</td>\n",
       "      <td>https://www.samaritans.org/how-we-can-help/con...</td>\n",
       "      <td>[helpline, phoneline, chat, suicide, suicidal,...</td>\n",
       "      <td>3</td>\n",
       "      <td>1094</td>\n",
       "    </tr>\n",
       "  </tbody>\n",
       "</table>\n",
       "</div>"
      ],
      "text/plain": [
       "   r_id                name  \\\n",
       "0     1           Headspace   \n",
       "1     2  Samaritans Website   \n",
       "2     3    NHS Suicide Help   \n",
       "3     4  NHS Self Harm Help   \n",
       "4     5  Samaritans Support   \n",
       "\n",
       "                                                 url  \\\n",
       "0                         https://www.headspace.com/   \n",
       "1                        https://www.samaritans.org/   \n",
       "2             https://www.nhs.uk/conditions/suicide/   \n",
       "3           https://www.nhs.uk/conditions/self-harm/   \n",
       "4  https://www.samaritans.org/how-we-can-help/con...   \n",
       "\n",
       "                                                tags  vote_average  vote_count  \n",
       "0  [mindfulness, meditation, sleep, stress, anxie...             4        3045  \n",
       "1  [information, suicide, suicidal, kill, harm, die]             5        4357  \n",
       "2      [information, suicide, suicidal, death, harm]             5         123  \n",
       "3        [self-harm, hurt, selfloathing, past-trauma             4          53  \n",
       "4  [helpline, phoneline, chat, suicide, suicidal,...             3        1094  "
      ]
     },
     "execution_count": 58,
     "metadata": {},
     "output_type": "execute_result"
    }
   ],
   "source": [
    "df.head()"
   ]
  },
  {
   "cell_type": "code",
   "execution_count": 59,
   "metadata": {},
   "outputs": [
    {
     "data": {
      "text/html": [
       "<div>\n",
       "<style scoped>\n",
       "    .dataframe tbody tr th:only-of-type {\n",
       "        vertical-align: middle;\n",
       "    }\n",
       "\n",
       "    .dataframe tbody tr th {\n",
       "        vertical-align: top;\n",
       "    }\n",
       "\n",
       "    .dataframe thead th {\n",
       "        text-align: right;\n",
       "    }\n",
       "</style>\n",
       "<table border=\"1\" class=\"dataframe\">\n",
       "  <thead>\n",
       "    <tr style=\"text-align: right;\">\n",
       "      <th></th>\n",
       "      <th>r_id</th>\n",
       "      <th>name</th>\n",
       "      <th>url</th>\n",
       "      <th>tags</th>\n",
       "      <th>vote_average</th>\n",
       "      <th>vote_count</th>\n",
       "    </tr>\n",
       "  </thead>\n",
       "  <tbody>\n",
       "    <tr>\n",
       "      <th>5</th>\n",
       "      <td>6</td>\n",
       "      <td>Young Minds: Grief and Loss</td>\n",
       "      <td>https://youngminds.org.uk/find-help/feelings-a...</td>\n",
       "      <td>[grief, loss, bereavement, grieve, death]</td>\n",
       "      <td>2</td>\n",
       "      <td>4556</td>\n",
       "    </tr>\n",
       "    <tr>\n",
       "      <th>6</th>\n",
       "      <td>7</td>\n",
       "      <td>NHS: Bereavement and Young People</td>\n",
       "      <td>https://www.nhs.uk/conditions/stress-anxiety-d...</td>\n",
       "      <td>[grief, loss, bereavement, grieve, death]</td>\n",
       "      <td>2</td>\n",
       "      <td>2434</td>\n",
       "    </tr>\n",
       "    <tr>\n",
       "      <th>7</th>\n",
       "      <td>8</td>\n",
       "      <td>Grief Encounter Phoneline</td>\n",
       "      <td>https://www.griefencounter.org.uk/</td>\n",
       "      <td>[helpline, grief, loss, bereavement, grieve, d...</td>\n",
       "      <td>4</td>\n",
       "      <td>232</td>\n",
       "    </tr>\n",
       "    <tr>\n",
       "      <th>21</th>\n",
       "      <td>22</td>\n",
       "      <td>Grief: Support for Young People</td>\n",
       "      <td>https://apps.apple.com/gb/app/grief-support-fo...</td>\n",
       "      <td>[app, journaling, grief, loss, bereavement, gr...</td>\n",
       "      <td>4</td>\n",
       "      <td>5424</td>\n",
       "    </tr>\n",
       "  </tbody>\n",
       "</table>\n",
       "</div>"
      ],
      "text/plain": [
       "    r_id                               name  \\\n",
       "5      6        Young Minds: Grief and Loss   \n",
       "6      7  NHS: Bereavement and Young People   \n",
       "7      8          Grief Encounter Phoneline   \n",
       "21    22    Grief: Support for Young People   \n",
       "\n",
       "                                                  url  \\\n",
       "5   https://youngminds.org.uk/find-help/feelings-a...   \n",
       "6   https://www.nhs.uk/conditions/stress-anxiety-d...   \n",
       "7                  https://www.griefencounter.org.uk/   \n",
       "21  https://apps.apple.com/gb/app/grief-support-fo...   \n",
       "\n",
       "                                                 tags  vote_average  \\\n",
       "5           [grief, loss, bereavement, grieve, death]             2   \n",
       "6           [grief, loss, bereavement, grieve, death]             2   \n",
       "7   [helpline, grief, loss, bereavement, grieve, d...             4   \n",
       "21  [app, journaling, grief, loss, bereavement, gr...             4   \n",
       "\n",
       "    vote_count  \n",
       "5         4556  \n",
       "6         2434  \n",
       "7          232  \n",
       "21        5424  "
      ]
     },
     "execution_count": 59,
     "metadata": {},
     "output_type": "execute_result"
    }
   ],
   "source": [
    "dfS = df[df['tags'].str.contains(\"grief\")]\n",
    "dfS"
   ]
  },
  {
   "cell_type": "code",
   "execution_count": 60,
   "metadata": {},
   "outputs": [
    {
     "data": {
      "text/plain": [
       "3.0"
      ]
     },
     "execution_count": 60,
     "metadata": {},
     "output_type": "execute_result"
    }
   ],
   "source": [
    "#ranking system\n",
    "C = dfS['vote_average'].mean()\n",
    "C"
   ]
  },
  {
   "cell_type": "code",
   "execution_count": 61,
   "metadata": {},
   "outputs": [
    {
     "data": {
      "text/plain": [
       "4131.599999999999"
      ]
     },
     "execution_count": 61,
     "metadata": {},
     "output_type": "execute_result"
    }
   ],
   "source": [
    "m = dfS['vote_count'].quantile(0.6)\n",
    "m"
   ]
  },
  {
   "cell_type": "code",
   "execution_count": 62,
   "metadata": {},
   "outputs": [
    {
     "data": {
      "text/plain": [
       "(2, 6)"
      ]
     },
     "execution_count": 62,
     "metadata": {},
     "output_type": "execute_result"
    }
   ],
   "source": [
    "qualified = dfS.copy().loc[dfS['vote_count'] >= m]\n",
    "qualified.shape"
   ]
  },
  {
   "cell_type": "code",
   "execution_count": 63,
   "metadata": {},
   "outputs": [],
   "source": [
    "def weighted_rating(x, m=m, C=C):\n",
    "    v = x['vote_count']\n",
    "    R = x['vote_average']\n",
    "    # Calculation based on the IMDB formula\n",
    "    return (v/(v+m) * R) + (m/(m+v) * C)"
   ]
  },
  {
   "cell_type": "code",
   "execution_count": 64,
   "metadata": {},
   "outputs": [],
   "source": [
    "# Define a new feature 'score' and calculate its value with `weighted_rating()`\n",
    "qualified['score'] = qualified.apply(weighted_rating, axis=1)"
   ]
  },
  {
   "cell_type": "code",
   "execution_count": 65,
   "metadata": {},
   "outputs": [
    {
     "data": {
      "text/html": [
       "<div>\n",
       "<style scoped>\n",
       "    .dataframe tbody tr th:only-of-type {\n",
       "        vertical-align: middle;\n",
       "    }\n",
       "\n",
       "    .dataframe tbody tr th {\n",
       "        vertical-align: top;\n",
       "    }\n",
       "\n",
       "    .dataframe thead th {\n",
       "        text-align: right;\n",
       "    }\n",
       "</style>\n",
       "<table border=\"1\" class=\"dataframe\">\n",
       "  <thead>\n",
       "    <tr style=\"text-align: right;\">\n",
       "      <th></th>\n",
       "      <th>name</th>\n",
       "      <th>vote_count</th>\n",
       "      <th>vote_average</th>\n",
       "      <th>score</th>\n",
       "    </tr>\n",
       "  </thead>\n",
       "  <tbody>\n",
       "    <tr>\n",
       "      <th>21</th>\n",
       "      <td>Grief: Support for Young People</td>\n",
       "      <td>5424</td>\n",
       "      <td>4</td>\n",
       "      <td>3.567625</td>\n",
       "    </tr>\n",
       "    <tr>\n",
       "      <th>5</th>\n",
       "      <td>Young Minds: Grief and Loss</td>\n",
       "      <td>4556</td>\n",
       "      <td>2</td>\n",
       "      <td>2.475574</td>\n",
       "    </tr>\n",
       "  </tbody>\n",
       "</table>\n",
       "</div>"
      ],
      "text/plain": [
       "                               name  vote_count  vote_average     score\n",
       "21  Grief: Support for Young People        5424             4  3.567625\n",
       "5       Young Minds: Grief and Loss        4556             2  2.475574"
      ]
     },
     "execution_count": 65,
     "metadata": {},
     "output_type": "execute_result"
    }
   ],
   "source": [
    "#Sort qualified recommendations based on score calculated above\n",
    "qualified = qualified.sort_values('score', ascending=False)\n",
    "\n",
    "#Print the top recommendations\n",
    "qualified[['name', 'vote_count', 'vote_average', 'score']].head(3)"
   ]
  },
  {
   "cell_type": "code",
   "execution_count": 26,
   "metadata": {},
   "outputs": [
    {
     "data": {
      "text/html": [
       "<div>\n",
       "<style scoped>\n",
       "    .dataframe tbody tr th:only-of-type {\n",
       "        vertical-align: middle;\n",
       "    }\n",
       "\n",
       "    .dataframe tbody tr th {\n",
       "        vertical-align: top;\n",
       "    }\n",
       "\n",
       "    .dataframe thead th {\n",
       "        text-align: right;\n",
       "    }\n",
       "</style>\n",
       "<table border=\"1\" class=\"dataframe\">\n",
       "  <thead>\n",
       "    <tr style=\"text-align: right;\">\n",
       "      <th></th>\n",
       "      <th>name</th>\n",
       "      <th>tags</th>\n",
       "    </tr>\n",
       "  </thead>\n",
       "  <tbody>\n",
       "    <tr>\n",
       "      <th>0</th>\n",
       "      <td>Headspace</td>\n",
       "      <td>[mindfulness, meditation, sleep, stress, anxie...</td>\n",
       "    </tr>\n",
       "    <tr>\n",
       "      <th>1</th>\n",
       "      <td>Samaritans Website</td>\n",
       "      <td>[information, suicide, suicidal, kill, harm, die]</td>\n",
       "    </tr>\n",
       "    <tr>\n",
       "      <th>2</th>\n",
       "      <td>NHS Suicide Help</td>\n",
       "      <td>[information, suicide, suicidal, death, harm]</td>\n",
       "    </tr>\n",
       "    <tr>\n",
       "      <th>3</th>\n",
       "      <td>NHS Self Harm Help</td>\n",
       "      <td>[self-harm, hurt, selfloathing, past-trauma</td>\n",
       "    </tr>\n",
       "    <tr>\n",
       "      <th>4</th>\n",
       "      <td>Samaritans Support</td>\n",
       "      <td>[helpline, phoneline, chat, suicide, suicidal,...</td>\n",
       "    </tr>\n",
       "  </tbody>\n",
       "</table>\n",
       "</div>"
      ],
      "text/plain": [
       "                 name                                               tags\n",
       "0           Headspace  [mindfulness, meditation, sleep, stress, anxie...\n",
       "1  Samaritans Website  [information, suicide, suicidal, kill, harm, die]\n",
       "2    NHS Suicide Help      [information, suicide, suicidal, death, harm]\n",
       "3  NHS Self Harm Help        [self-harm, hurt, selfloathing, past-trauma\n",
       "4  Samaritans Support  [helpline, phoneline, chat, suicide, suicidal,..."
      ]
     },
     "execution_count": 26,
     "metadata": {},
     "output_type": "execute_result"
    }
   ],
   "source": [
    "df = df[['name','tags']]\n",
    "df.head()"
   ]
  },
  {
   "cell_type": "code",
   "execution_count": 27,
   "metadata": {},
   "outputs": [
    {
     "name": "stdout",
     "output_type": "stream",
     "text": [
      "[[1.         0.         0.         0.         0.         0.\n",
      "  0.         0.         0.         0.         0.         0.\n",
      "  0.         0.         0.         0.         0.         0.30151134\n",
      "  0.23570226 0.         0.38490018 0.        ]\n",
      " [0.         1.         0.73029674 0.16666667 0.6172134  0.\n",
      "  0.         0.         0.16666667 0.         0.         0.\n",
      "  0.16666667 0.16666667 0.         0.         0.         0.\n",
      "  0.         0.         0.         0.        ]\n",
      " [0.         0.73029674 1.         0.18257419 0.50709255 0.2\n",
      "  0.2        0.18257419 0.18257419 0.         0.         0.\n",
      "  0.18257419 0.18257419 0.         0.         0.         0.\n",
      "  0.         0.         0.         0.16903085]\n",
      " [0.         0.16666667 0.18257419 1.         0.15430335 0.\n",
      "  0.         0.         0.         0.         0.         0.\n",
      "  0.         0.         0.         0.         0.         0.\n",
      "  0.         0.         0.         0.        ]\n",
      " [0.         0.6172134  0.50709255 0.15430335 1.         0.\n",
      "  0.         0.15430335 0.         0.42857143 0.         0.\n",
      "  0.         0.         0.         0.16903085 0.         0.11396058\n",
      "  0.         0.         0.         0.        ]\n",
      " [0.         0.         0.2        0.         0.         1.\n",
      "  1.         0.91287093 0.         0.         0.         0.\n",
      "  0.         0.         0.         0.         0.         0.\n",
      "  0.         0.         0.         0.84515425]\n",
      " [0.         0.         0.2        0.         0.         1.\n",
      "  1.         0.91287093 0.         0.         0.         0.\n",
      "  0.         0.         0.         0.         0.         0.\n",
      "  0.         0.         0.         0.84515425]\n",
      " [0.         0.         0.18257419 0.         0.15430335 0.91287093\n",
      "  0.91287093 1.         0.         0.15430335 0.         0.\n",
      "  0.         0.         0.         0.         0.         0.\n",
      "  0.         0.         0.         0.77151675]\n",
      " [0.         0.16666667 0.18257419 0.         0.         0.\n",
      "  0.         0.         1.         0.15430335 0.         0.\n",
      "  0.16666667 0.16666667 0.         0.         0.         0.\n",
      "  0.         0.         0.         0.        ]\n",
      " [0.         0.         0.         0.         0.42857143 0.\n",
      "  0.         0.15430335 0.15430335 1.         0.         0.3380617\n",
      "  0.         0.         0.         0.16903085 0.         0.11396058\n",
      "  0.         0.         0.         0.        ]\n",
      " [0.         0.         0.         0.         0.         0.\n",
      "  0.         0.         0.         0.         1.         0.\n",
      "  0.54772256 0.54772256 0.         0.         0.         0.\n",
      "  0.         0.         0.         0.        ]\n",
      " [0.         0.         0.         0.         0.         0.\n",
      "  0.         0.         0.         0.3380617  0.         1.\n",
      "  0.         0.         0.         0.         0.         0.\n",
      "  0.         0.         0.         0.        ]\n",
      " [0.         0.16666667 0.18257419 0.         0.         0.\n",
      "  0.         0.         0.16666667 0.         0.54772256 0.\n",
      "  1.         1.         0.         0.         0.         0.\n",
      "  0.         0.         0.         0.        ]\n",
      " [0.         0.16666667 0.18257419 0.         0.         0.\n",
      "  0.         0.         0.16666667 0.         0.54772256 0.\n",
      "  1.         1.         0.         0.         0.         0.\n",
      "  0.         0.         0.         0.        ]\n",
      " [0.         0.         0.         0.         0.         0.\n",
      "  0.         0.         0.         0.         0.         0.\n",
      "  0.         0.         1.         0.         0.         0.13483997\n",
      "  0.         0.         0.         0.        ]\n",
      " [0.         0.         0.         0.         0.16903085 0.\n",
      "  0.         0.         0.         0.16903085 0.         0.\n",
      "  0.         0.         0.         1.         0.         0.13483997\n",
      "  0.         0.51639778 0.         0.        ]\n",
      " [0.         0.         0.         0.         0.         0.\n",
      "  0.         0.         0.         0.         0.         0.\n",
      "  0.         0.         0.         0.         1.         0.\n",
      "  0.         0.         0.         0.        ]\n",
      " [0.30151134 0.         0.         0.         0.11396058 0.\n",
      "  0.         0.         0.         0.11396058 0.         0.\n",
      "  0.         0.         0.13483997 0.13483997 0.         1.\n",
      "  0.42640143 0.17407766 0.34815531 0.22792115]\n",
      " [0.23570226 0.         0.         0.         0.         0.\n",
      "  0.         0.         0.         0.         0.         0.\n",
      "  0.         0.         0.         0.         0.         0.42640143\n",
      "  1.         0.20412415 0.40824829 0.26726124]\n",
      " [0.         0.         0.         0.         0.         0.\n",
      "  0.         0.         0.         0.         0.         0.\n",
      "  0.         0.         0.         0.51639778 0.         0.17407766\n",
      "  0.20412415 1.         0.33333333 0.21821789]\n",
      " [0.38490018 0.         0.         0.         0.         0.\n",
      "  0.         0.         0.         0.         0.         0.\n",
      "  0.         0.         0.         0.         0.         0.34815531\n",
      "  0.40824829 0.33333333 1.         0.21821789]\n",
      " [0.         0.         0.16903085 0.         0.         0.84515425\n",
      "  0.84515425 0.77151675 0.         0.         0.         0.\n",
      "  0.         0.         0.         0.         0.         0.22792115\n",
      "  0.26726124 0.21821789 0.21821789 1.        ]]\n"
     ]
    }
   ],
   "source": [
    "count = CountVectorizer()\n",
    "count_matrix = count.fit_transform(df['tags'])\n",
    "cosine_sim = cosine_similarity(count_matrix, count_matrix)\n",
    "print(cosine_sim)"
   ]
  },
  {
   "cell_type": "code",
   "execution_count": 28,
   "metadata": {},
   "outputs": [],
   "source": [
    "indices = pd.Series(df['name'])"
   ]
  },
  {
   "cell_type": "code",
   "execution_count": 29,
   "metadata": {},
   "outputs": [],
   "source": [
    "def recommend(name, cosine_sim = cosine_sim):\n",
    "    recommended_rec = []\n",
    "    idx = indices[indices == name].index[0]\n",
    "    score_series = pd.Series(cosine_sim[idx]).sort_values(ascending = False)\n",
    "    top_10_indices = list(score_series.iloc[1:11].index)\n",
    "    \n",
    "    for i in top_10_indices:\n",
    "        recommended_rec.append(list(df['name'])[i])\n",
    "        \n",
    "    return recommended_rec"
   ]
  },
  {
   "cell_type": "code",
   "execution_count": 30,
   "metadata": {},
   "outputs": [
    {
     "data": {
      "text/plain": [
       "['Smiling Mind',\n",
       " 'Wysa',\n",
       " 'Stoic',\n",
       " 'Young Minds: Bullying',\n",
       " 'Samaritans Website',\n",
       " 'NHS Suicide Help',\n",
       " 'NHS Self Harm Help',\n",
       " 'Samaritans Support',\n",
       " 'Young Minds: Grief and Loss',\n",
       " 'NHS: Bereavement and Young People']"
      ]
     },
     "execution_count": 30,
     "metadata": {},
     "output_type": "execute_result"
    }
   ],
   "source": [
    "recommend('Headspace')"
   ]
  }
 ],
 "metadata": {
  "kernelspec": {
   "display_name": "Python 3",
   "language": "python",
   "name": "python3"
  },
  "language_info": {
   "codemirror_mode": {
    "name": "ipython",
    "version": 3
   },
   "file_extension": ".py",
   "mimetype": "text/x-python",
   "name": "python",
   "nbconvert_exporter": "python",
   "pygments_lexer": "ipython3",
   "version": "3.8.3"
  }
 },
 "nbformat": 4,
 "nbformat_minor": 4
}
